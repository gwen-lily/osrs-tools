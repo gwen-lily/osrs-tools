{
 "cells": [
  {
   "cell_type": "code",
   "execution_count": 2,
   "metadata": {},
   "outputs": [],
   "source": [
    "from osrs_tools import resource_reader as rr\n",
    "from osrsbox.items_api.item_equipment import ItemEquipment\n",
    "from osrsbox import items_api\n",
    "from osrsbox.items_api.all_items import AllItems, ItemProperties\n",
    "\n",
    "ITEMS = items_api.load()\n",
    "EQUIPABLE_ITEMS = [item for item in ITEMS if item.equipable_by_player]"
   ]
  },
  {
   "cell_type": "code",
   "execution_count": 3,
   "metadata": {},
   "outputs": [
    {
     "ename": "AssertionError",
     "evalue": "",
     "output_type": "error",
     "traceback": [
      "\u001b[1;31m---------------------------------------------------------------------------\u001b[0m",
      "\u001b[1;31mAssertionError\u001b[0m                            Traceback (most recent call last)",
      "\u001b[1;32mc:\\python\\osrs-tools-master\\examples\\osrsbox\\osrsbox_magic_items.ipynb Cell 2'\u001b[0m in \u001b[0;36m<cell line: 12>\u001b[1;34m()\u001b[0m\n\u001b[0;32m      <a href='vscode-notebook-cell:/c%3A/python/osrs-tools-master/examples/osrsbox/osrsbox_magic_items.ipynb#ch0000001?line=8'>9</a>\u001b[0m     \u001b[39massert\u001b[39;00m \u001b[39misinstance\u001b[39m(x\u001b[39m.\u001b[39mequipment, ItemProperties)\n\u001b[0;32m     <a href='vscode-notebook-cell:/c%3A/python/osrs-tools-master/examples/osrsbox/osrsbox_magic_items.ipynb#ch0000001?line=9'>10</a>\u001b[0m     \u001b[39mreturn\u001b[39;00m x\u001b[39m.\u001b[39mequipment\u001b[39m.\u001b[39mattack_magic\n\u001b[1;32m---> <a href='vscode-notebook-cell:/c%3A/python/osrs-tools-master/examples/osrsbox/osrsbox_magic_items.ipynb#ch0000001?line=11'>12</a>\u001b[0m magic_bonus_items\u001b[39m.\u001b[39;49msort(key\u001b[39m=\u001b[39;49m_sort_key, reverse\u001b[39m=\u001b[39;49m\u001b[39mTrue\u001b[39;49;00m)\n\u001b[0;32m     <a href='vscode-notebook-cell:/c%3A/python/osrs-tools-master/examples/osrsbox/osrsbox_magic_items.ipynb#ch0000001?line=13'>14</a>\u001b[0m \u001b[39mfor\u001b[39;00m item \u001b[39min\u001b[39;00m magic_bonus_items:\n\u001b[0;32m     <a href='vscode-notebook-cell:/c%3A/python/osrs-tools-master/examples/osrsbox/osrsbox_magic_items.ipynb#ch0000001?line=14'>15</a>\u001b[0m     \u001b[39mprint\u001b[39m(item\u001b[39m.\u001b[39mname)\n",
      "\u001b[1;32mc:\\python\\osrs-tools-master\\examples\\osrsbox\\osrsbox_magic_items.ipynb Cell 2'\u001b[0m in \u001b[0;36m_sort_key\u001b[1;34m(x)\u001b[0m\n\u001b[0;32m      <a href='vscode-notebook-cell:/c%3A/python/osrs-tools-master/examples/osrsbox/osrsbox_magic_items.ipynb#ch0000001?line=7'>8</a>\u001b[0m \u001b[39mdef\u001b[39;00m \u001b[39m_sort_key\u001b[39m(x: ItemProperties):\n\u001b[1;32m----> <a href='vscode-notebook-cell:/c%3A/python/osrs-tools-master/examples/osrsbox/osrsbox_magic_items.ipynb#ch0000001?line=8'>9</a>\u001b[0m     \u001b[39massert\u001b[39;00m \u001b[39misinstance\u001b[39m(x\u001b[39m.\u001b[39mequipment, ItemProperties)\n\u001b[0;32m     <a href='vscode-notebook-cell:/c%3A/python/osrs-tools-master/examples/osrsbox/osrsbox_magic_items.ipynb#ch0000001?line=9'>10</a>\u001b[0m     \u001b[39mreturn\u001b[39;00m x\u001b[39m.\u001b[39mequipment\u001b[39m.\u001b[39mattack_magic\n",
      "\u001b[1;31mAssertionError\u001b[0m: "
     ]
    }
   ],
   "source": [
    "magic_bonus_items: list[ItemProperties] = []\n",
    "\n",
    "for item in EQUIPABLE_ITEMS:\n",
    "    assert isinstance(item.equipment, ItemEquipment)\n",
    "    if item.equipment.attack_magic > 0:\n",
    "        magic_bonus_items.append(item)\n",
    "\n",
    "def _sort_key(x: ItemProperties):\n",
    "    assert isinstance(x.equipment, ItemProperties)\n",
    "    return x.equipment.attack_magic\n",
    "\n",
    "magic_bonus_items.sort(key=_sort_key, reverse=True)\n",
    "\n",
    "for item in magic_bonus_items:\n",
    "    print(item.name)"
   ]
  }
 ],
 "metadata": {
  "interpreter": {
   "hash": "cb8d3779099f8ead8eca446d56260fe1f494247af38e5694f35a728a0793ba46"
  },
  "kernelspec": {
   "display_name": "Python 3.10.1 ('.venv': venv)",
   "language": "python",
   "name": "python3"
  },
  "language_info": {
   "codemirror_mode": {
    "name": "ipython",
    "version": 3
   },
   "file_extension": ".py",
   "mimetype": "text/x-python",
   "name": "python",
   "nbconvert_exporter": "python",
   "pygments_lexer": "ipython3",
   "version": "3.10.1"
  },
  "orig_nbformat": 4
 },
 "nbformat": 4,
 "nbformat_minor": 2
}

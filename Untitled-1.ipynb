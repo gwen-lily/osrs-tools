{
 "cells": [
  {
   "cell_type": "code",
   "execution_count": 10,
   "metadata": {},
   "outputs": [
    {
     "name": "stdout",
     "output_type": "stream",
     "text": [
      "[]\n",
      "[]\n"
     ]
    }
   ],
   "source": [
    "from osrs_tools.boost import SuperCombatPotion\n",
    "from osrs_tools.character.player import Player\n",
    "import logging\n",
    "\n",
    "logging.basicConfig(level=logging.DEBUG)\n",
    "\n",
    "player = Player()\n",
    "logging.debug('creating Player')\n",
    "\n",
    "player.effects\n",
    "print(player.effects)\n",
    "\n",
    "player.boost(SuperCombatPotion)\n",
    "\n",
    "print(player.effects)\n"
   ]
  }
 ],
 "metadata": {
  "kernelspec": {
   "display_name": "Python 3.10.1 ('.venv': venv)",
   "language": "python",
   "name": "python3"
  },
  "language_info": {
   "codemirror_mode": {
    "name": "ipython",
    "version": 3
   },
   "file_extension": ".py",
   "mimetype": "text/x-python",
   "name": "python",
   "nbconvert_exporter": "python",
   "pygments_lexer": "ipython3",
   "version": "3.10.1"
  },
  "orig_nbformat": 4,
  "vscode": {
   "interpreter": {
    "hash": "266d27427b47dcff18ac8d73a836d975725cdb4723d96908a2a5866809f7f0b5"
   }
  }
 },
 "nbformat": 4,
 "nbformat_minor": 2
}
